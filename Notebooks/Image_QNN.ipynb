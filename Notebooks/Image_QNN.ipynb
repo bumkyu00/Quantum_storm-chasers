{
 "cells": [
  {
   "cell_type": "code",
   "execution_count": 1,
   "metadata": {},
   "outputs": [
    {
     "name": "stderr",
     "output_type": "stream",
     "text": [
      "/Users/bumkyu/miniforge3/envs/qiskit/lib/python3.8/site-packages/torchvision/io/image.py:11: UserWarning: Failed to load image Python extension: dlopen(/Users/bumkyu/miniforge3/envs/qiskit/lib/python3.8/site-packages/torchvision/image.so, 0x0006): Library not loaded: @rpath/libpng16.16.dylib\n",
      "  Referenced from: /Users/bumkyu/miniforge3/envs/qiskit/lib/python3.8/site-packages/torchvision/image.so\n",
      "  Reason: tried: '/Users/bumkyu/miniforge3/envs/qiskit/lib/python3.8/lib-dynload/../../libpng16.16.dylib' (no such file), '/Users/bumkyu/miniforge3/envs/qiskit/bin/../lib/libpng16.16.dylib' (no such file), '/usr/local/lib/libpng16.16.dylib' (no such file), '/usr/lib/libpng16.16.dylib' (no such file)\n",
      "  warn(f\"Failed to load image Python extension: {e}\")\n"
     ]
    }
   ],
   "source": [
    "import random\n",
    "import numpy as np\n",
    "import matplotlib.pyplot as plt\n",
    "\n",
    "import sys\n",
    "sys.path.append('../Pyfiles')\n",
    "# Pull in the helper files.\n",
    "from ImageRead import *\n",
    "from QNN import *\n"
   ]
  },
  {
   "cell_type": "code",
   "execution_count": 2,
   "metadata": {},
   "outputs": [],
   "source": [
    "target_o = [0 for i in range(25)]+[1 for i in range(25)]"
   ]
  },
  {
   "cell_type": "code",
   "execution_count": 3,
   "metadata": {},
   "outputs": [],
   "source": [
    "pathY=r'../dataset/Original/galaxy/'\n",
    "pathN=r'../dataset/Original/No-galaxy/'\n",
    "nameN=''\n",
    "nameY=''\n",
    "inputY=[imageResize(callImage(i+1,pathY,nameY),16) for i in range(25)]\n",
    "inputN=[imageResize(callImage(i+1,pathN,nameN),16) for i in range(25)]\n",
    "input_combine = inputY+inputN"
   ]
  },
  {
   "cell_type": "code",
   "execution_count": 4,
   "metadata": {},
   "outputs": [],
   "source": [
    "np.random.seed(0)\n",
    "idx=np.array([int(i) for i in range(50)]).flatten()\n",
    "\n",
    "np.random.shuffle(idx)\n",
    "\n",
    "dataInput = list(input_combine[i] for i in idx )\n",
    "dataTarget = list( imageBinarize(input_combine[i]) for i in idx )\n",
    "\n",
    "data_target_o=list( target_o[i] for i in idx )"
   ]
  },
  {
   "cell_type": "code",
   "execution_count": 5,
   "metadata": {},
   "outputs": [
    {
     "data": {
      "image/png": "[encoded data removed]",
      "text/plain": [
       "<Figure size 1440x432 with 10 Axes>"
      ]
     },
     "metadata": {},
     "output_type": "display_data"
    }
   ],
   "source": [
    "n_samples_show = 5\n",
    "fig, axes = plt.subplots(nrows=2, ncols=n_samples_show, figsize=(20, 6))\n",
    "\n",
    "for i in range(n_samples_show):\n",
    "\n",
    "    axes[0,i].imshow(dataInput[i], cmap='gray')\n",
    "    axes[0,i].set_xticks([])\n",
    "    axes[0,i].set_yticks([])\n",
    "    axes[1,i].imshow(dataInput[i+5], cmap='gray')\n",
    "    axes[1,i].set_xticks([])\n",
    "    axes[1,i].set_yticks([])    \n"
   ]
  },
  {
   "cell_type": "code",
   "execution_count": 6,
   "metadata": {},
   "outputs": [],
   "source": [
    "Xtest= [normlaizeData(dataInput[i+15].flatten()) for i in range(10)]\n",
    "y01test= [data_target_o[i+15] for i in range(10)]"
   ]
  },
  {
   "cell_type": "code",
   "execution_count": 7,
   "metadata": {},
   "outputs": [],
   "source": [
    "# n_samples_show = 5\n",
    "# fig, axes = plt.subplots(nrows=2, ncols=n_samples_show, figsize=(15, 6))\n",
    "\n",
    "# for i in range(5):\n",
    "#     a = np.array_split(Xtest[i], 128)\n",
    "#     a = [x.tolist() for x in a]\n",
    "#     print(a)\n",
    "#     axes[0,i].imshow(a, cmap='gray')\n",
    "#     print(i)\n",
    "#     axes[0,i].set_xticks([])\n",
    "#     axes[0,i].set_yticks([])\n",
    "#     axes[0,i].set_title(\"Label: {}\".format(y01test[i]))\n",
    "#     print(i)\n",
    "#     axes[1,i].imshow(np.array(np.array_split(Xtest[i+5], 128)), cmap='gray')\n",
    "#     axes[1,i].set_xticks([])\n",
    "#     axes[1,i].set_yticks([])\n",
    "#     axes[1,i].set_title(\"Label: {}\".format(y01test[i+5]))    "
   ]
  },
  {
   "cell_type": "code",
   "execution_count": 8,
   "metadata": {},
   "outputs": [
    {
     "name": "stderr",
     "output_type": "stream",
     "text": [
      "/Users/bumkyu/miniforge3/envs/qiskit/lib/python3.8/site-packages/numpy/linalg/linalg.py:2146: RuntimeWarning: divide by zero encountered in det\n",
      "  r = _umath_linalg.det(a, signature=signature)\n",
      "/Users/bumkyu/miniforge3/envs/qiskit/lib/python3.8/site-packages/numpy/linalg/linalg.py:2146: RuntimeWarning: invalid value encountered in det\n",
      "  r = _umath_linalg.det(a, signature=signature)\n"
     ]
    }
   ],
   "source": [
    "from qiskit.circuit.parameter import Parameter\n",
    "from qiskit_machine_learning.neural_networks import CircuitQNN\n",
    "from qiskit_machine_learning.connectors import TorchConnector\n",
    "from qiskit.utils import QuantumInstance\n",
    "from torch.nn import Linear, CrossEntropyLoss, MSELoss\n",
    "from torch.optim import LBFGS, SGD,Adam \n",
    "qi = QuantumInstance(Aer.get_backend('statevector_simulator'))\n",
    "from qiskit.circuit.library import RealAmplitudes, ZZFeatureMap\n",
    "from qiskit_machine_learning.algorithms.classifiers import NeuralNetworkClassifier, VQC\n",
    "from qiskit.algorithms.optimizers import COBYLA, L_BFGS_B\n",
    "\n",
    "# Model for LBFGS\n",
    "# Combining the circuit together with CircuitQNN\n",
    "np.random.seed(3)\n",
    "\n",
    "\n",
    "nqubits=6\n",
    "num_inputs=256\n",
    "qc = QuantumCircuit(nqubits)\n",
    "\n",
    "# Encoding\n",
    "param_x=[];\n",
    "for i in range(num_inputs):\n",
    "    param_x.append(Parameter('x'+str(i)))\n",
    "for i in range(8):\n",
    "    param_x.append(np.pi/2)\n",
    "\n",
    "\n",
    "feature_map = encoding(qc,param_x,22)\n",
    "\n",
    "\n",
    "# Optimzing circuit PQC\n",
    "param_y=[];\n",
    "for i in range(nqubits*2):\n",
    "    param_y.append(Parameter('θ'+str(i)))\n",
    "\n",
    "ansatz=circuit15(qc,param_y)\n",
    "\n",
    "qc.append(feature_map, range(nqubits))\n",
    "qc.append(ansatz, range(nqubits))\n",
    "\n",
    "qnn2 = CircuitQNN(qc, input_params=feature_map.parameters, weight_params=ansatz.parameters, \n",
    "                  interpret=parity, output_shape=2, quantum_instance=qi)\n",
    "initial_weights = 0.1*(2*np.random.rand(qnn2.num_weights) - 1)\n"
   ]
  },
  {
   "cell_type": "code",
   "execution_count": 9,
   "metadata": {},
   "outputs": [],
   "source": [
    "# define optimizer and loss function\n",
    "\n",
    "model2 = TorchConnector(qnn2, initial_weights)\n",
    "\n",
    "optimizer = LBFGS(model2.parameters(),lr=0.1)\n",
    "f_loss = CrossEntropyLoss()\n",
    "\n",
    "X= [normlaizeData(dataInput[i].flatten()) for i in range(15)]\n",
    "y01= [data_target_o[i] for i in range(15)]"
   ]
  },
  {
   "cell_type": "code",
   "execution_count": 10,
   "metadata": {},
   "outputs": [
    {
     "name": "stdout",
     "output_type": "stream",
     "text": [
      "Accuracy: 0.6666666666666666\n"
     ]
    }
   ],
   "source": [
    "from torch import Tensor\n",
    "# traning model accuracy\n",
    "y_predict = []\n",
    "for x in X:\n",
    "    output = model2(Tensor(x))\n",
    "    y_predict += [np.argmax(output.detach().numpy())]\n",
    "\n",
    "print('Accuracy:', sum(y_predict == np.array(y01))/len(np.array(y01)))"
   ]
  },
  {
   "cell_type": "code",
   "execution_count": 11,
   "metadata": {},
   "outputs": [
    {
     "name": "stdout",
     "output_type": "stream",
     "text": [
      "Accuracy: 0.6\n"
     ]
    }
   ],
   "source": [
    "# Test nidek accuracy\n",
    "\n",
    "Xtest= [normlaizeData(dataInput[i+15].flatten()) for i in range(10)]\n",
    "y01test= [data_target_o[i+15] for i in range(10)]\n",
    "\n",
    "y_predict = []\n",
    "for x in Xtest:\n",
    "    output = model2(Tensor(x))\n",
    "    y_predict += [np.argmax(output.detach().numpy())]\n",
    "\n",
    "print('Accuracy:', sum(y_predict == np.array(y01test))/len(np.array(y01test)))"
   ]
  },
  {
   "cell_type": "code",
   "execution_count": 12,
   "metadata": {},
   "outputs": [
    {
     "data": {
      "image/png": "[encoded data removed]",
      "text/plain": [
       "<Figure size 1080x432 with 10 Axes>"
      ]
     },
     "metadata": {},
     "output_type": "display_data"
    }
   ],
   "source": [
    "n_samples_show = 5\n",
    "fig, axes = plt.subplots(nrows=2, ncols=n_samples_show, figsize=(15, 6))\n",
    "\n",
    "for i in range(5):\n",
    "    axes[0,i].imshow(np.array(np.array_split(Xtest[i], 8)), cmap='gray')\n",
    "    axes[0,i].set_xticks([])\n",
    "    axes[0,i].set_yticks([])\n",
    "    axes[0,i].set_title(\"Label: {}\".format(y01test[i]))\n",
    "    axes[1,i].imshow(np.array(np.array_split(Xtest[i+5], 8)), cmap='gray')\n",
    "    axes[1,i].set_xticks([])\n",
    "    axes[1,i].set_yticks([])\n",
    "    axes[1,i].set_title(\"Label: {}\".format(y01test[i+5]))    "
   ]
  },
  {
   "cell_type": "code",
   "execution_count": 13,
   "metadata": {},
   "outputs": [],
   "source": [
    "# from qiskit_machine_learning.neural_networks import CircuitQNN\n",
    "# from qiskit_machine_learning.connectors import TorchConnector\n",
    "# from qiskit.utils import QuantumInstance\n",
    "# from torch.nn import Linear, CrossEntropyLoss, MSELoss\n",
    "# from torch.optim import LBFGS, SGD,Adam \n",
    "# qi = QuantumInstance(Aer.get_backend('statevector_simulator'))\n",
    "# from qiskit.circuit.library import RealAmplitudes, ZZFeatureMap\n",
    "# from qiskit_machine_learning.algorithms.classifiers import NeuralNetworkClassifier, VQC\n",
    "# from qiskit.algorithms.optimizers import COBYLA, L_BFGS_B\n",
    "\n",
    "# # Model for LBFGS\n",
    "# # Combining the circuit together with CircuitQNN\n",
    "# np.random.seed(3)\n",
    "\n",
    "\n",
    "# nqubits=6\n",
    "# num_inputs=2**nqubits\n",
    "# qc = QuantumCircuit(nqubits)\n",
    "\n",
    "# param_x=[];\n",
    "# for i in range(2**nqubits):\n",
    "#     param_x.append(Parameter('x'+str(i)))\n",
    "# for i in range(8):\n",
    "#     param_x.append(np.pi/2)\n",
    "\n",
    "# feature_map = encoding(qr,param_x,6)\n",
    "\n",
    "# param_y=[];\n",
    "# for i in range(nqubits*2):\n",
    "#     param_y.append(Parameter('θ'+str(i)))\n",
    "\n",
    "# ansatz=circuit15(qr,param_y)\n",
    "\n",
    "# qc.append(feature_map, range(nqubits))\n",
    "# qc.append(ansatz, range(nqubits))\n",
    "\n",
    "# qnn2 = CircuitQNN(qc, input_params=feature_map.parameters, weight_params=ansatz.parameters, \n",
    "#                   interpret=parity, output_shape=2, quantum_instance=qi)\n",
    "# initial_weights = 0.1*(2*np.random.rand(qnn2.num_weights) - 1)\n"
   ]
  },
  {
   "cell_type": "markdown",
   "metadata": {},
   "source": [
    "# Learning Rate 0.1"
   ]
  },
  {
   "cell_type": "code",
   "execution_count": 14,
   "metadata": {},
   "outputs": [],
   "source": [
    "# define optimizer and loss function\n",
    "\n",
    "model2 = TorchConnector(qnn2, initial_weights)\n",
    "\n",
    "optimizer = LBFGS(model2.parameters(),lr=0.1)\n",
    "f_loss = CrossEntropyLoss()\n",
    "\n",
    "X= [normlaizeData(dataInput[i].flatten()) for i in range(15)]\n",
    "y01= [data_target_o[i] for i in range(15)]"
   ]
  },
  {
   "cell_type": "code",
   "execution_count": 15,
   "metadata": {},
   "outputs": [
    {
     "name": "stdout",
     "output_type": "stream",
     "text": [
      "10.560748100280762\n",
      "10.508609771728516\n",
      "9.778334617614746\n",
      "9.754973411560059\n",
      "9.688726425170898\n",
      "9.59354019165039\n",
      "9.461403846740723\n",
      "9.331774711608887\n",
      "9.241013526916504\n",
      "9.171730041503906\n",
      "9.111660957336426\n",
      "9.059903144836426\n",
      "9.016716957092285\n",
      "8.980650901794434\n",
      "8.950191497802734\n",
      "8.92452621459961\n",
      "8.90291976928711\n",
      "8.884546279907227\n",
      "8.868736267089844\n",
      "8.855064392089844\n",
      "8.843242645263672\n",
      "8.833083152770996\n",
      "8.824390411376953\n",
      "8.817018508911133\n",
      "8.810745239257812\n",
      "8.805490493774414\n",
      "8.801151275634766\n",
      "8.797706604003906\n",
      "8.79495620727539\n",
      "8.792744636535645\n",
      "8.790946960449219\n",
      "8.789487838745117\n",
      "8.788300514221191\n",
      "8.787335395812988\n",
      "8.78654956817627\n",
      "8.785911560058594\n",
      "8.785391807556152\n",
      "8.784969329833984\n",
      "8.784625053405762\n",
      "8.784343719482422\n"
     ]
    },
    {
     "data": {
      "text/plain": [
       "tensor(8.8432, grad_fn=<AddBackward0>)"
      ]
     },
     "execution_count": 15,
     "metadata": {},
     "output_type": "execute_result"
    }
   ],
   "source": [
    "from torch import Tensor\n",
    "# start training\n",
    "\n",
    "model2.train()    # set model to training mode\n",
    "\n",
    "# define objective function\n",
    "def closure():\n",
    "    optimizer.zero_grad()                                  # initialize gradient\n",
    "    loss = 0.0                                             # initialize loss    \n",
    "    for x, y_target in zip(X, y01):                        # evaluate batch loss\n",
    "        output = model2(Tensor(x)).reshape(1, 2)           # forward pass\n",
    "        loss += f_loss(output, Tensor([y_target]).long())\n",
    "    loss.backward()                                        # backward pass\n",
    "    print(loss.item())                                     # print loss\n",
    "    return loss\n",
    "\n",
    "# run optimizer\n",
    "optimizer.step(closure)\n",
    "optimizer.step(closure)"
   ]
  },
  {
   "cell_type": "code",
   "execution_count": 16,
   "metadata": {},
   "outputs": [
    {
     "name": "stdout",
     "output_type": "stream",
     "text": [
      "Accuracy: 0.9333333333333333\n"
     ]
    }
   ],
   "source": [
    "# traning model accuracy\n",
    "y_predict = []\n",
    "for x in X:\n",
    "    output = model2(Tensor(x))\n",
    "    y_predict += [np.argmax(output.detach().numpy())]\n",
    "\n",
    "print('Accuracy:', sum(y_predict == np.array(y01))/len(np.array(y01)))"
   ]
  },
  {
   "cell_type": "code",
   "execution_count": 17,
   "metadata": {},
   "outputs": [
    {
     "name": "stdout",
     "output_type": "stream",
     "text": [
      "Accuracy: 0.9\n"
     ]
    }
   ],
   "source": [
    "# Test nidek accuracy\n",
    "\n",
    "Xtest= [normlaizeData(dataInput[i+15].flatten()) for i in range(10)]\n",
    "y01test= [data_target_o[i+15] for i in range(10)]\n",
    "\n",
    "y_predict = []\n",
    "for x in Xtest:\n",
    "    output = model2(Tensor(x))\n",
    "    y_predict += [np.argmax(output.detach().numpy())]\n",
    "\n",
    "print('Accuracy:', sum(y_predict == np.array(y01test))/len(np.array(y01test)))"
   ]
  },
  {
   "cell_type": "code",
   "execution_count": 18,
   "metadata": {},
   "outputs": [
    {
     "data": {
      "image/png": "[encoded data removed]",
      "text/plain": [
       "<Figure size 1440x216 with 10 Axes>"
      ]
     },
     "metadata": {},
     "output_type": "display_data"
    }
   ],
   "source": [
    "n_samples_show = 10\n",
    "fig, axes = plt.subplots(nrows=1, ncols=n_samples_show, figsize=(20, 3))\n",
    "\n",
    "for i in range(10):\n",
    "    axes[i].imshow(np.array(np.array_split(Xtest[i], 16)), cmap='gray')\n",
    "    axes[i].set_xticks([])\n",
    "    axes[i].set_yticks([])\n",
    "    axes[i].set_title(\"Label: {}\".format(y01test[i])+\"+pred: {}\".format(y_predict[i]))"
   ]
  },
  {
   "cell_type": "markdown",
   "metadata": {},
   "source": [
    "# Learning rate 0.01"
   ]
  },
  {
   "cell_type": "code",
   "execution_count": 19,
   "metadata": {},
   "outputs": [],
   "source": [
    "# define optimizer and loss function\n",
    "\n",
    "model2 = TorchConnector(qnn2, initial_weights)\n",
    "\n",
    "optimizer = LBFGS(model2.parameters(),lr=0.01)\n",
    "f_loss = CrossEntropyLoss()\n",
    "\n",
    "X= [normlaizeData(dataInput[i].flatten()) for i in range(15)]\n",
    "y01= [data_target_o[i] for i in range(15)]"
   ]
  },
  {
   "cell_type": "code",
   "execution_count": 20,
   "metadata": {},
   "outputs": [
    {
     "name": "stdout",
     "output_type": "stream",
     "text": [
      "10.560748100280762\n",
      "10.555519104003906\n",
      "10.322396278381348\n",
      "10.263618469238281\n",
      "10.231043815612793\n",
      "10.19247817993164\n",
      "10.145801544189453\n",
      "10.094972610473633\n",
      "10.045539855957031\n",
      "10.000255584716797\n",
      "9.959122657775879\n",
      "9.921398162841797\n",
      "9.886467933654785\n",
      "9.853927612304688\n",
      "9.823494911193848\n",
      "9.79495906829834\n",
      "9.768142700195312\n",
      "9.742895126342773\n",
      "9.719085693359375\n",
      "9.696598052978516\n"
     ]
    },
    {
     "data": {
      "text/plain": [
       "tensor(10.5607, grad_fn=<AddBackward0>)"
      ]
     },
     "execution_count": 20,
     "metadata": {},
     "output_type": "execute_result"
    }
   ],
   "source": [
    "from torch import Tensor\n",
    "# start training\n",
    "\n",
    "model2.train()    # set model to training mode\n",
    "\n",
    "# define objective function\n",
    "def closure():\n",
    "    optimizer.zero_grad()                                  # initialize gradient\n",
    "    loss = 0.0                                             # initialize loss    \n",
    "    for x, y_target in zip(X, y01):                        # evaluate batch loss\n",
    "        output = model2(Tensor(x)).reshape(1, 2)           # forward pass\n",
    "        loss += f_loss(output, Tensor([y_target]).long())\n",
    "    loss.backward()                                        # backward pass\n",
    "    print(loss.item())                                     # print loss\n",
    "    return loss\n",
    "\n",
    "# run optimizer\n",
    "optimizer.step(closure)"
   ]
  },
  {
   "cell_type": "code",
   "execution_count": 21,
   "metadata": {},
   "outputs": [
    {
     "name": "stdout",
     "output_type": "stream",
     "text": [
      "9.675323486328125\n",
      "9.655163764953613\n",
      "9.636028289794922\n",
      "9.617837905883789\n",
      "9.600512504577637\n",
      "9.583980560302734\n",
      "9.568174362182617\n",
      "9.553031921386719\n",
      "9.538493156433105\n",
      "9.524505615234375\n",
      "9.511015892028809\n",
      "9.49797534942627\n",
      "9.48534107208252\n",
      "9.473069190979004\n",
      "9.461128234863281\n",
      "9.449478149414062\n",
      "9.438090324401855\n",
      "9.4269380569458\n",
      "9.416000366210938\n",
      "9.405258178710938\n"
     ]
    },
    {
     "data": {
      "text/plain": [
       "tensor(9.6753, grad_fn=<AddBackward0>)"
      ]
     },
     "execution_count": 21,
     "metadata": {},
     "output_type": "execute_result"
    }
   ],
   "source": [
    "optimizer.step(closure)"
   ]
  },
  {
   "cell_type": "code",
   "execution_count": 22,
   "metadata": {},
   "outputs": [
    {
     "name": "stdout",
     "output_type": "stream",
     "text": [
      "Accuracy: 0.9333333333333333\n"
     ]
    }
   ],
   "source": [
    "# traning model accuracy\n",
    "y_predict = []\n",
    "for x in X:\n",
    "    output = model2(Tensor(x))\n",
    "    y_predict += [np.argmax(output.detach().numpy())]\n",
    "\n",
    "print('Accuracy:', sum(y_predict == np.array(y01))/len(np.array(y01)))"
   ]
  },
  {
   "cell_type": "code",
   "execution_count": 23,
   "metadata": {},
   "outputs": [
    {
     "name": "stdout",
     "output_type": "stream",
     "text": [
      "Accuracy: 0.9\n"
     ]
    }
   ],
   "source": [
    "# Test nidek accuracy\n",
    "\n",
    "Xtest= [normlaizeData(dataInput[i+15].flatten()) for i in range(10)]\n",
    "y01test= [data_target_o[i+15] for i in range(10)]\n",
    "\n",
    "y_predict = []\n",
    "for x in Xtest:\n",
    "    output = model2(Tensor(x))\n",
    "    y_predict += [np.argmax(output.detach().numpy())]\n",
    "\n",
    "print('Accuracy:', sum(y_predict == np.array(y01test))/len(np.array(y01test)))"
   ]
  },
  {
   "cell_type": "code",
   "execution_count": 24,
   "metadata": {},
   "outputs": [
    {
     "data": {
      "image/png": "[encoded data removed]",
      "text/plain": [
       "<Figure size 1440x216 with 10 Axes>"
      ]
     },
     "metadata": {},
     "output_type": "display_data"
    }
   ],
   "source": [
    "n_samples_show = 10\n",
    "fig, axes = plt.subplots(nrows=1, ncols=n_samples_show, figsize=(20, 3))\n",
    "\n",
    "for i in range(10):\n",
    "    axes[i].imshow(np.array(np.array_split(Xtest[i], 8)), cmap='gray')\n",
    "    axes[i].set_xticks([])\n",
    "    axes[i].set_yticks([])\n",
    "    axes[i].set_title(\"Label: {}\".format(y01test[i])+\"+pred: {}\".format(y_predict[i]))"
   ]
  },
  {
   "cell_type": "code",
   "execution_count": 26,
   "metadata": {},
   "outputs": [
    {
     "name": "stdout",
     "output_type": "stream",
     "text": [
      "Accuracy: 0.68\n"
     ]
    }
   ],
   "source": [
    "target_o = [0 for i in range(25)]+[1 for i in range(25)]\n",
    "\n",
    "pathY=r'../dataset/Original/galaxy1/'\n",
    "pathN=r'../dataset/Original/No-galaxy1/'\n",
    "nameN=''\n",
    "nameY=''\n",
    "inputY=[imageResize(callImage(i+1,pathY,nameY),16) for i in range(25)]\n",
    "inputN=[imageResize(callImage(i+1,pathN,nameN),16) for i in range(25)]\n",
    "input_combine = inputY+inputN\n",
    "\n",
    "np.random.seed(0)\n",
    "idx=np.array([int(i) for i in range(50)]).flatten()\n",
    "\n",
    "np.random.shuffle(idx)\n",
    "\n",
    "dataInput = list(input_combine[i] for i in idx )\n",
    "dataTarget = list( imageBinarize(input_combine[i]) for i in idx )\n",
    "\n",
    "data_target_o=list( target_o[i] for i in idx )\n",
    "\n",
    "Xtest= [normlaizeData(dataInput[i].flatten()) for i in range(25)]\n",
    "y01test= [data_target_o[i] for i in range(25)]\n",
    "\n",
    "y_predict = []\n",
    "for x in Xtest:\n",
    "    output = model2(Tensor(x))\n",
    "    y_predict += [np.argmax(output.detach().numpy())]\n",
    "\n",
    "print('Accuracy:', sum(y_predict == np.array(y01test))/len(np.array(y01test)))"
   ]
  },
  {
   "cell_type": "code",
   "execution_count": null,
   "metadata": {},
   "outputs": [],
   "source": []
  }
 ],
 "metadata": {
  "interpreter": {
   "hash": "7085d7f3a85dff14807db3b039303f4d3e7814f3ae962158c22b2b6462c5d354"
  },
  "kernelspec": {
   "display_name": "Python3.8",
   "language": "python",
   "name": "qiskit"
  },
  "language_info": {
   "codemirror_mode": {
    "name": "ipython",
    "version": 3
   },
   "file_extension": ".py",
   "mimetype": "text/x-python",
   "name": "python",
   "nbconvert_exporter": "python",
   "pygments_lexer": "ipython3",
   "version": "3.8.12"
  }
 },
 "nbformat": 4,
 "nbformat_minor": 2
}
