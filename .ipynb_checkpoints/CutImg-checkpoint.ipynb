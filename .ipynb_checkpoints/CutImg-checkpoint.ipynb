{
 "cells": [
  {
   "cell_type": "code",
   "execution_count": 18,
   "id": "85e967f0",
   "metadata": {},
   "outputs": [],
   "source": [
    "from PIL import Image\n",
    "import numpy as np\n",
    "import matplotlib.pyplot as plt"
   ]
  },
  {
   "cell_type": "code",
   "execution_count": 54,
   "id": "bb7bd827",
   "metadata": {},
   "outputs": [],
   "source": [
    "img = Image.open('img.png').convert('L')\n",
    "img = np.asarray(img.getdata()).reshape((579,1028))\n",
    "plt.imsave('cutimg/img.png', img, cmap='gray')"
   ]
  },
  {
   "cell_type": "code",
   "execution_count": 104,
   "id": "90b5ea76",
   "metadata": {},
   "outputs": [],
   "source": [
    "cut=64\n",
    "#1028 579\n",
    "img = Image.open('img.png').convert('L')\n",
    "img = np.asarray(img.getdata()).reshape((579,1028))\n",
    "for i in range(579//cut):\n",
    "    for j in range(1028//cut):\n",
    "        cutimg = img[i*cut:(i+1)*cut]\n",
    "        cutimg = cutimg[:,list(range(j*cut,(j+1)*cut))]\n",
    "        plt.imsave('cutimg/{} {}.jpg'.format(i,j), cutimg ,cmap='gray')"
   ]
  },
  {
   "cell_type": "code",
   "execution_count": 81,
   "id": "e54812e7",
   "metadata": {},
   "outputs": [],
   "source": [
    "for i in range(579//cut):\n",
    "    for j in range(1028//cut):\n",
    "        img16 = Image.open('cutimg/{} {}.jpg'.format(i,j)).resize((16,16))\n",
    "        img16 = np.asarray(img16.getdata()).reshape((16,16))\n",
    "        "
   ]
  },
  {
   "cell_type": "code",
   "execution_count": 120,
   "id": "f3bd1e6e",
   "metadata": {},
   "outputs": [
    {
     "data": {
      "image/png": "[encoded data removed]",
      "text/plain": [
       "<Figure size 432x288 with 1 Axes>"
      ]
     },
     "metadata": {
      "needs_background": "light"
     },
     "output_type": "display_data"
    }
   ],
   "source": [
    "img16 = Image.open('cutimg/{} {}.jpg'.format(5,1)).resize((16,16)).convert('L')\n",
    "plt.imshow(img16, cmap='gray')\n",
    "img16 = np.asarray(img16.getdata(), dtype=np.float64).reshape((16,16))\n"
   ]
  },
  {
   "cell_type": "code",
   "execution_count": null,
   "id": "1c4219fc",
   "metadata": {},
   "outputs": [],
   "source": []
  }
 ],
 "metadata": {
  "kernelspec": {
   "display_name": "Python3.8",
   "language": "python",
   "name": "qiskit"
  },
  "language_info": {
   "codemirror_mode": {
    "name": "ipython",
    "version": 3
   },
   "file_extension": ".py",
   "mimetype": "text/x-python",
   "name": "python",
   "nbconvert_exporter": "python",
   "pygments_lexer": "ipython3",
   "version": "3.8.12"
  }
 },
 "nbformat": 4,
 "nbformat_minor": 5
}
